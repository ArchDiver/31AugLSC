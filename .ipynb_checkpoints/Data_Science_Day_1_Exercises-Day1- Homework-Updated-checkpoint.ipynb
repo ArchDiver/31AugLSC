{
 "cells": [
  {
   "cell_type": "markdown",
   "metadata": {},
   "source": [
    "# Exercises"
   ]
  },
  {
   "cell_type": "markdown",
   "metadata": {},
   "source": [
    "### #1 - Calculate the BMI (body mass index) on the two lists below using NDArrays..."
   ]
  },
  {
   "cell_type": "code",
   "execution_count": 25,
   "metadata": {},
   "outputs": [
    {
     "name": "stdout",
     "output_type": "stream",
     "text": [
      "[16.86620458 17.87755102 18.82562984 19.71450617 20.54794521 21.32943755\n",
      " 22.06222222]\n",
      "<class 'numpy.ndarray'>\n"
     ]
    }
   ],
   "source": [
    "import numpy as np\n",
    "# formula = weight / (height**2) * 730\n",
    "height = [69, 70, 71, 72, 73, 74, 75]\n",
    "weight = [110, 120, 130, 140, 150, 160, 170]\n",
    "\n",
    "h = np.array(height)\n",
    "w = np.array(weight)\n",
    "\n",
    "bmi = (w /(h**2)) *730\n",
    "print(bmi)\n",
    "\n",
    "print(type(bmi))\n",
    "\n"
   ]
  },
  {
   "cell_type": "markdown",
   "metadata": {},
   "source": [
    "### #2 - Create a function that will take in two parameters and will create a random matrix based off of those parameters. Extra: Have additional parameters taken in that allow the user to choose the shape and data type of the matrix."
   ]
  },
  {
   "cell_type": "code",
   "execution_count": 4,
   "metadata": {},
   "outputs": [
    {
     "data": {
      "text/plain": [
       "array([[ 8, 19, 17, 15],\n",
       "       [14,  2, 17,  5],\n",
       "       [ 5,  5, 14, 12],\n",
       "       [15, 11,  3,  3],\n",
       "       [ 7,  5, 19,  5]])"
      ]
     },
     "execution_count": 4,
     "metadata": {},
     "output_type": "execute_result"
    }
   ],
   "source": [
    "# Example makeMatrix(param1,param2) -- Extra params can be added here as well\n",
    "\n",
    "def makeMatrix(low,high,shape,data_type = float):\n",
    "    rows = shape[1]\n",
    "    columns = shape[0] \n",
    "    M = np.random.randint(low, high,(rows, columns))\n",
    "    return M\n",
    "\n",
    "high = input(\"Please \")\n",
    "\n",
    "makeMatrix(1,20,(4,5))"
   ]
  },
  {
   "cell_type": "markdown",
   "metadata": {},
   "source": [
    "### #3 - Extra: Open and load the data in the two text files that have the Boston Red Sox hitting data for the past seasons. Compare the difference in the two years by putting the data into an NDArray and running a differencial operation on it. The column to look for will be SLG.\n",
    "\n",
    "Your output should display which year (either 2017 or 2018) was a better year based on SLG"
   ]
  },
  {
   "cell_type": "code",
   "execution_count": 22,
   "metadata": {},
   "outputs": [
    {
     "name": "stdout",
     "output_type": "stream",
     "text": [
      "The 2017 SLG was 1.4866828918457031% better than 2018\n"
     ]
    }
   ],
   "source": [
    "FIELDS = ['Rk', 'Pos', 'Name', 'Age', 'G', 'PA', 'AB', 'R', 'H', '2B', '3B', 'HR', 'RBI', 'SB', 'CS', \n",
    "          'BB', 'SO', 'BA', 'OBP', 'SLG', 'OPS', 'OPS+', 'TB', 'GDP', 'HBP', 'SH', 'SF', 'IBB']\n",
    "\n",
    "DATATYPES = [('rk', 'i'), ('pos', '|S25'), ('name', '|S25'), ('age', 'i'), ('g', 'i'), ('pa', 'i'), ('ab', 'i'),\n",
    "                ('r', 'i'), ('h', 'i'), ('2b', 'i'), ('3b', 'i'), ('hr', 'i'), ('rbi', 'i'), ('sb', 'i'), ('cs', 'i'),\n",
    "                ('bb', 'i'), ('so', 'i'), ('ba', 'f'), ('obp', 'f'), ('slg', 'f'), ('ops', 'f'), ('opsp', 'i'),\n",
    "                ('tb', 'i'), ('gdp', 'i'), ('hbp', 'i'), ('sh', 'i'), ('sf', 'i'), ('ibb', 'i')]\n",
    "\n",
    "#Use this function to actually open the data inside of a NDArray\n",
    "\n",
    "def load_data(filename, d=','):\n",
    "    data = np.genfromtxt(filename, delimiter=d, skip_header =1,\n",
    "                          usecols = np.arange(0,24), invalid_raise=False,\n",
    "                          names = FIELDS, dtype = DATATYPES)\n",
    "    return data\n",
    "rs17 = load_data('files/redsox_2017_hitting.txt')\n",
    "rs18 = load_data('files/redsox_2018_hitting.txt')\n",
    "\n",
    "def betterYear():\n",
    "    slg17 = np.average(rs17['SLG'])\n",
    "    slg18 = np.average(rs18['SLG'])\n",
    "    if slg17 > slg18:\n",
    "        slgPer = 100-((slg18/slg17)*100)\n",
    "        print(f'The 2017 SLG was {slgPer}% better than 2018')\n",
    "    elif slg18 > slg17:\n",
    "        slgDiff = 100-((slg17/slg18)*100)\n",
    "        print(f'The 2018 SLG was {slgPer}% better than 2017')\n",
    "    else:\n",
    "        print(f'Both 2017 and 2018 had an SLG of {slg17}')\n",
    "        \n",
    "        \n",
    "betterYear()\n"
   ]
  },
  {
   "cell_type": "code",
   "execution_count": null,
   "metadata": {},
   "outputs": [],
   "source": []
  }
 ],
 "metadata": {
  "kernelspec": {
   "display_name": "Python 3",
   "language": "python",
   "name": "python3"
  },
  "language_info": {
   "codemirror_mode": {
    "name": "ipython",
    "version": 3
   },
   "file_extension": ".py",
   "mimetype": "text/x-python",
   "name": "python",
   "nbconvert_exporter": "python",
   "pygments_lexer": "ipython3",
   "version": "3.7.6"
  }
 },
 "nbformat": 4,
 "nbformat_minor": 2
}
